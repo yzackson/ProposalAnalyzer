{
 "cells": [
  {
   "cell_type": "code",
   "execution_count": 78,
   "metadata": {},
   "outputs": [],
   "source": [
    "from PyPDF2 import PdfReader\n",
    "from pathlib import Path\n",
    "import re\n",
    "\n",
    "path = Path('./Propostas')\n",
    "propostas_files = list(path.glob('*.pdf'))\n",
    "\n",
    "\n",
    "lista_de_propostas = []\n",
    "\n",
    "    # Trabalha proposta por proposta\n",
    "for proposta_file in propostas_files:\n",
    "    # leio o arquivo\n",
    "    pdf = PdfReader(proposta_file)\n",
    "\n",
    "    # extrai todo o texto do arquivo de proposta\n",
    "    conteudo = pdf.pages[0].extract_text() \n",
    "\n",
    "    # Determina o ínicio e fim do texto a ser extraído\n",
    "    inicio = conteudo.find(\"Quant.  Especificação    Preço\")\n",
    "    fim = conteudo.find(\"SERVIÇO S\") if conteudo.find(\"SERVIÇO S\") >= 0 else conteudo.find(\"OBS:.\")\n",
    "\n",
    "    proposta_det = {\n",
    "        'NomeProposta': str(proposta_file),\n",
    "        'Itens': conteudo[inicio:fim:]\n",
    "    }\n",
    "\n",
    "    lista_de_propostas.append(proposta_det)"
   ]
  },
  {
   "cell_type": "code",
   "execution_count": 79,
   "metadata": {},
   "outputs": [],
   "source": [
    "filter_item = re.compile('^(\\d\\d\\d\\s\\D\\s.+)')\n",
    "filter_value = re.compile('^(\\d.*\\D\\d\\d)')\n",
    "\n",
    "with open('propostas.txt', 'w', encoding='utf-8') as f:\n",
    "    for item in lista_de_propostas:\n",
    "        f.write('\\n\\n-------------------------------------------\\nNota: %s\\n' % (item['NomeProposta']))\n",
    "        linessplited = item['Itens'].splitlines()\n",
    "        if linessplited != [] :\n",
    "            i = 0\n",
    "\n",
    "            while i < len(linessplited):\n",
    "                if linessplited[i].isspace():\n",
    "                    linessplited.pop(i)\n",
    "                else:\n",
    "                    linessplited[i] = linessplited[i].strip()\n",
    "                    prop_item = filter_item.findall(linessplited[i])\n",
    "                    item_val = filter_value.findall(linessplited[i])\n",
    "                    if prop_item != []:\n",
    "                        f.write('%s\\n' % (prop_item[0].split(' – ')))\n",
    "                    elif item_val != []:\n",
    "                        f.write('%s\\n\\n' % (item_val))\n",
    "                    i += 1"
   ]
  },
  {
   "cell_type": "code",
   "execution_count": 93,
   "metadata": {},
   "outputs": [
    {
     "name": "stdout",
     "output_type": "stream",
     "text": [
      "{'nome': 'Propostas\\\\PROPOSTA-PETZ-101120-6-b.pdf', 'itens': [{'qtd': 5, 'descricao': 'Licenças de ramal IP Alcatel -Lucent'}, {'qtd': 5, 'descricao': 'Aparelhos IP Alcate l-Lucent Mod. 8008 (sem fonte)'}, {'qtd': 5, 'descricao': 'Licenças de ramal IP Alcatel -Lucent'}, {'qtd': 5, 'descricao': 'Aparelhos IP Alcate l-Lucent Mod. 8008 (sem fonte)'}], 'valor': 280.05}\n",
      "{'nome': 'Propostas\\\\PROPOSTA-PETZ-111218-5-b.pdf', 'itens': [{'qtd': 1, 'descricao': 'Media Gateways com GD3 (Alcatel -Lucent IP Remote  Unit'}, {'qtd': 1, 'descricao': 'Placa E1 ISDN/R2 (c/ kit Balun)'}, {'qtd': 1, 'descricao': 'Placa APA -4'}, {'qtd': 5, 'descricao': 'Licenças de ramal IP Alcatel -Lucent'}, {'qtd': 5, 'descricao': 'Aparelhos IP Alcatel -Lucent Mod. 8018 (sem fonte)'}, {'qtd': 5, 'descricao': 'Licenças de ramal IP Alcatel -Lucent'}, {'qtd': 5, 'descricao': 'Aparelhos IP Alcatel -Lucent Mod. 80 18 (sem fonte'}], 'valor': 388.3}\n",
      "{'nome': 'Propostas\\\\PROPOSTA_PETZ_020317-1-b.pdf', 'itens': [], 'valor': 0.0}\n"
     ]
    }
   ],
   "source": [
    "filter_item = re.compile('^(\\d\\d\\d\\s\\D\\s.+)')\n",
    "filter_value = re.compile('^(\\d.*\\D\\d\\d)')\n",
    "\n",
    "with open('propostas.txt', 'w', encoding='utf-8') as f:\n",
    "    for proposta in lista_de_propostas:\n",
    "        prop = {\n",
    "            'nome': '',\n",
    "            'itens': [],\n",
    "            'valor': 0.0\n",
    "        }\n",
    "        prop['nome'] = proposta['NomeProposta']\n",
    "        f.write('\\n\\n-------------------------------------------\\nNota: %s\\n' % (proposta['NomeProposta']))\n",
    "        linessplited = proposta['Itens'].splitlines()\n",
    "        if linessplited != [] :\n",
    "            i = 0\n",
    "            proposta_list = []\n",
    "            while i < len(linessplited):\n",
    "                if linessplited[i].isspace():\n",
    "                    linessplited.pop(i)\n",
    "                else:\n",
    "                    linessplited[i] = linessplited[i].strip()\n",
    "                    prop_item = filter_item.findall(linessplited[i])\n",
    "                    item_val = filter_value.findall(linessplited[i])\n",
    "                    if prop_item != []:\n",
    "                        prop['itens'].append({'qtd': int(prop_item[0].split(' – ')[0]), 'descricao': prop_item[0].split(' – ')[1]})\n",
    "                        f.write('%s\\n' % (prop_item[0].split(' – ')))\n",
    "                    elif item_val != []:\n",
    "                        prop['valor'] = float(item_val[0].replace('.','').replace(',','.'))\n",
    "                        f.write('%s\\n\\n' % (item_val))\n",
    "                    i += 1\n",
    "        print(prop)"
   ]
  }
 ],
 "metadata": {
  "kernelspec": {
   "display_name": "Python 3",
   "language": "python",
   "name": "python3"
  },
  "language_info": {
   "name": "python",
   "version": "3.10.7"
  },
  "orig_nbformat": 4
 },
 "nbformat": 4,
 "nbformat_minor": 2
}
